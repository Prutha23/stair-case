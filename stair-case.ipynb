{
 "cells": [
  {
   "cell_type": "code",
   "execution_count": 18,
   "metadata": {},
   "outputs": [
    {
     "name": "stdout",
     "output_type": "stream",
     "text": [
      "[1, 2, 3, 4]\n",
      "[5, 6, 7, 8]\n",
      "[9, 10, 11, 12]\n",
      "[13, 14, 15, 16]\n",
      "output\n",
      "[1, 2, 6, 7, 11, 12, 16, 15, 14, 13, 9, 5]\n",
      "------------------------------\n",
      "[1, 2, 3, 4]\n",
      "[5, 6, 7, 8]\n",
      "[9, 10, 11, 12]\n",
      "output\n",
      "[1, 2, 6, 7, 11, 12]\n",
      "------------------------------\n",
      "[1, 2, 3]\n",
      "[4, 5, 6]\n",
      "[7, 8, 9]\n",
      "[10, 11, 12]\n",
      "output\n",
      "[1, 2, 5, 6, 9]\n",
      "------------------------------\n"
     ]
    }
   ],
   "source": [
    "def printElements(M):\n",
    "    i = 0\n",
    "    j = 0\n",
    "    row = len(M)\n",
    "    col = len(M[0])\n",
    "    ans = []\n",
    "    for k in M:\n",
    "        print(k)\n",
    "    while i < row and j < col:\n",
    "        ans.append(M[i][j])\n",
    "        j += 1 #moving in right direction\n",
    "        if j == col:\n",
    "            break\n",
    "        ans.append(M[i][j])\n",
    "        i += 1 #moving in bottom direction\n",
    "        if i == row:\n",
    "            break\n",
    "    if row == col:\n",
    "        #traversing elements of last row\n",
    "        for i in range(col-2,-1,-1):\n",
    "            ans.append(M[row-1][i])\n",
    "        #traversing elements of first col\n",
    "        for i in range(row-2,0,-1):\n",
    "            ans.append(M[i][0])\n",
    "    print('output')\n",
    "    print(ans)\n",
    "    print('------------------------------')\n",
    "# N*N\n",
    "M1 = [[1,2,3,4],[5,6,7,8],[9,10,11,12],[13,14,15,16]]\n",
    "printElements(M1)\n",
    "# row > col\n",
    "M2 = [[1,2,3,4],[5,6,7,8],[9,10,11,12]]\n",
    "printElements(M2)\n",
    "# row < col\n",
    "M3 = [[1,2,3],[4,5,6],[7,8,9],[10,11,12]]\n",
    "printElements(M3)"
   ]
  }
 ],
 "metadata": {
  "kernelspec": {
   "display_name": "Python 3",
   "language": "python",
   "name": "python3"
  },
  "language_info": {
   "codemirror_mode": {
    "name": "ipython",
    "version": 3
   },
   "file_extension": ".py",
   "mimetype": "text/x-python",
   "name": "python",
   "nbconvert_exporter": "python",
   "pygments_lexer": "ipython3",
   "version": "3.7.3"
  }
 },
 "nbformat": 4,
 "nbformat_minor": 2
}
